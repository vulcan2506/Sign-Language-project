{
 "cells": [
  {
   "cell_type": "code",
   "execution_count": 13,
   "id": "79961afa-4eba-4583-92e0-573fe477f9ae",
   "metadata": {},
   "outputs": [],
   "source": [
    "import torch\n",
    "import torch.nn as nn\n",
    "import torch.optim as optim\n",
    "from torch.optim import lr_scheduler\n",
    "from tqdm import tqdm\n",
    "from torchvision import datasets,models,transforms\n",
    "from torch.utils.data import DataLoader"
   ]
  },
  {
   "cell_type": "code",
   "execution_count": 14,
   "id": "76f38a70-edde-4315-a9ec-81d43c187e32",
   "metadata": {},
   "outputs": [
    {
     "data": {
      "text/plain": [
       "device(type='cuda')"
      ]
     },
     "execution_count": 14,
     "metadata": {},
     "output_type": "execute_result"
    }
   ],
   "source": [
    "device = torch.device(\"cuda\")\n",
    "device"
   ]
  },
  {
   "cell_type": "code",
   "execution_count": 15,
   "id": "08a65812-668f-41e4-87d8-dae8cb0df94e",
   "metadata": {},
   "outputs": [],
   "source": [
    "data_transforms = {\n",
    "   \"train\":transforms.Compose([\n",
    "       transforms.RandomResizedCrop(224),\n",
    "       transforms.RandomHorizontalFlip(),\n",
    "       transforms.ToTensor(),\n",
    "       transforms.Normalize([0.485,0.456,0.406],[0.229,0.224,0.225])\n",
    "   ]),\n",
    "    \"test\":transforms.Compose([\n",
    "        transforms.Resize(256),\n",
    "        transforms.CenterCrop(224),\n",
    "        transforms.ToTensor(),\n",
    "        transforms.Normalize([0.485,0.456,0.406],[0.229,0.224,0.225])\n",
    "    ])\n",
    "    \n",
    "}"
   ]
  },
  {
   "cell_type": "code",
   "execution_count": 16,
   "id": "6071d42c-cfd3-423b-a6ab-c43e8d7e10a1",
   "metadata": {},
   "outputs": [],
   "source": [
    "data_dir = \"/home/vulcan/Documents/melanoma_cancer_dataset\""
   ]
  },
  {
   "cell_type": "code",
   "execution_count": 17,
   "id": "7224a17c-86d4-459b-82ac-d886c075446b",
   "metadata": {},
   "outputs": [],
   "source": [
    "image_datasets = {x: datasets.ImageFolder(f\"{data_dir}/{x}\",data_transforms[x]) for x in ['train','test']}"
   ]
  },
  {
   "cell_type": "code",
   "execution_count": 18,
   "id": "840f37f5-b480-41fc-a557-6543691c342e",
   "metadata": {},
   "outputs": [],
   "source": [
    "dataloaders = {x: torch.utils.data.DataLoader(image_datasets[x],batch_size=4,shuffle=True,num_workers=0) for x in ['train','test']}"
   ]
  },
  {
   "cell_type": "code",
   "execution_count": 19,
   "id": "ca06ecd5-ee9c-434c-ac63-522f9b74defe",
   "metadata": {},
   "outputs": [],
   "source": [
    "model = models.resnet50(pretrained=True)\n",
    "model = model.to(device)"
   ]
  },
  {
   "cell_type": "code",
   "execution_count": 20,
   "id": "3a063369-3fee-4a8c-b3b1-e39548b35b08",
   "metadata": {},
   "outputs": [],
   "source": [
    "\n",
    "num_fltrs = model.fc.in_features\n",
    "models.fc =  nn.Linear(num_fltrs,28)\n",
    "criterion = nn.CrossEntropyLoss()\n",
    "optimizer = optim.SGD(model.parameters(),lr=0.001)\n",
    "\n"
   ]
  },
  {
   "cell_type": "code",
   "execution_count": null,
   "id": "c0a74676-34e8-4c7c-a8f3-1e540cebaefb",
   "metadata": {},
   "outputs": [
    {
     "name": "stderr",
     "output_type": "stream",
     "text": [
      "  0%|                                                    | 0/25 [00:00<?, ?it/s]"
     ]
    }
   ],
   "source": [
    "train_loss_list = []\n",
    "train_acc_list = []\n",
    "val_lost_list = []\n",
    "val_acc_list = []\n",
    "\n",
    "num_epochs = 25\n",
    "\n",
    "for epoch in tqdm(range(num_epochs)):\n",
    "    for phase in [\"train\",\"test\"]:\n",
    "        if phase ==\"train\":\n",
    "            model.train()\n",
    "        else:\n",
    "            model.eval()\n",
    "        running_loss = 0.0\n",
    "        corrects = 0\n",
    "\n",
    "        for inputs,labels in dataloaders[phase]:\n",
    "            optimizer.zero_grad()\n",
    "            inputs,labels = inputs.to(device), labels.to(device)\n",
    "            \n",
    "            with torch.set_grad_enabled(phase==\"train\"):\n",
    "                outputs = model(inputs)\n",
    "                loss = criterion(outputs,labels)\n",
    "                \n",
    "                if phase == \"train\":\n",
    "                    loss.backward()\n",
    "                    optimizer.step()\n",
    "\n",
    "            running_loss += loss.item() * inputs.size(0)\n",
    "            _,preds = torch.max(outputs,1)\n",
    "            corrects += torch.sum(preds==labels.data)\n",
    "\n",
    "        epochs_loss = running_loss / len(image_datasets[phase])\n",
    "        epoch_acc = corrects.double() / len(image_datasets[phase])\n",
    "\n",
    "        print(f'{phase} Loss: {epochs_loss:.4f}, Acc:{epoch_acc:.4f}')\n",
    "                "
   ]
  },
  {
   "cell_type": "code",
   "execution_count": null,
   "id": "e3be4e3a-73ef-448e-ac20-4016b38fbed0",
   "metadata": {},
   "outputs": [],
   "source": [
    "torch.save(model, 'cancer.pt')"
   ]
  },
  {
   "cell_type": "code",
   "execution_count": null,
   "id": "3e29e499-c3f7-4055-8f1b-27c5c0dc5bb5",
   "metadata": {},
   "outputs": [],
   "source": []
  }
 ],
 "metadata": {
  "kernelspec": {
   "display_name": "Python 3 (ipykernel)",
   "language": "python",
   "name": "python3"
  },
  "language_info": {
   "codemirror_mode": {
    "name": "ipython",
    "version": 3
   },
   "file_extension": ".py",
   "mimetype": "text/x-python",
   "name": "python",
   "nbconvert_exporter": "python",
   "pygments_lexer": "ipython3",
   "version": "3.10.12"
  }
 },
 "nbformat": 4,
 "nbformat_minor": 5
}
